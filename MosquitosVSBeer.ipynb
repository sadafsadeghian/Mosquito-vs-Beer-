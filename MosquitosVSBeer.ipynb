{
 "cells": [
  {
   "cell_type": "markdown",
   "metadata": {},
   "source": [
    "## Mosquito vs Beer \n"
   ]
  },
  {
   "cell_type": "markdown",
   "metadata": {},
   "source": [
    " Modeling the probability of drinking beer on Mosquito bites. Utilized null hypothesis, t-tests, and p-value."
   ]
  },
  {
   "cell_type": "markdown",
   "metadata": {},
   "source": [
    "Using the dataset of the results of the Mosquito vs Beer experiment, codes are written to create box plots for the number of mosquito bites in each group. \n",
    "\n",
    "Basic statistics measures for each group is calculated. Data simulation is implemented to calculate the experiment outcome assuming no association is between beer consumption and mosquito bites. "
   ]
  },
  {
   "cell_type": "code",
   "execution_count": 1,
   "metadata": {},
   "outputs": [
    {
     "data": {
      "text/html": [
       "<div>\n",
       "<style scoped>\n",
       "    .dataframe tbody tr th:only-of-type {\n",
       "        vertical-align: middle;\n",
       "    }\n",
       "\n",
       "    .dataframe tbody tr th {\n",
       "        vertical-align: top;\n",
       "    }\n",
       "\n",
       "    .dataframe thead th {\n",
       "        text-align: right;\n",
       "    }\n",
       "</style>\n",
       "<table border=\"1\" class=\"dataframe\">\n",
       "  <thead>\n",
       "    <tr style=\"text-align: right;\">\n",
       "      <th></th>\n",
       "      <th>Response</th>\n",
       "      <th>Treatment</th>\n",
       "    </tr>\n",
       "  </thead>\n",
       "  <tbody>\n",
       "    <tr>\n",
       "      <th>0</th>\n",
       "      <td>27</td>\n",
       "      <td>Beer</td>\n",
       "    </tr>\n",
       "    <tr>\n",
       "      <th>1</th>\n",
       "      <td>20</td>\n",
       "      <td>Beer</td>\n",
       "    </tr>\n",
       "    <tr>\n",
       "      <th>2</th>\n",
       "      <td>21</td>\n",
       "      <td>Beer</td>\n",
       "    </tr>\n",
       "    <tr>\n",
       "      <th>3</th>\n",
       "      <td>26</td>\n",
       "      <td>Beer</td>\n",
       "    </tr>\n",
       "    <tr>\n",
       "      <th>4</th>\n",
       "      <td>27</td>\n",
       "      <td>Beer</td>\n",
       "    </tr>\n",
       "  </tbody>\n",
       "</table>\n",
       "</div>"
      ],
      "text/plain": [
       "   Response Treatment\n",
       "0        27      Beer\n",
       "1        20      Beer\n",
       "2        21      Beer\n",
       "3        26      Beer\n",
       "4        27      Beer"
      ]
     },
     "execution_count": 1,
     "metadata": {},
     "output_type": "execute_result"
    }
   ],
   "source": [
    "import pandas as pd\n",
    "import seaborn as sns\n",
    "import matplotlib.pyplot as plt\n",
    "\n",
    "df= pd.read_csv('mosquitos_data.csv')\n",
    "df.head()"
   ]
  },
  {
   "cell_type": "code",
   "execution_count": 2,
   "metadata": {},
   "outputs": [
    {
     "name": "stdout",
     "output_type": "stream",
     "text": [
      "<class 'pandas.core.frame.DataFrame'>\n",
      "RangeIndex: 43 entries, 0 to 42\n",
      "Data columns (total 2 columns):\n",
      "Response     43 non-null int64\n",
      "Treatment    43 non-null object\n",
      "dtypes: int64(1), object(1)\n",
      "memory usage: 768.0+ bytes\n"
     ]
    }
   ],
   "source": [
    "df.info()"
   ]
  },
  {
   "cell_type": "code",
   "execution_count": 3,
   "metadata": {},
   "outputs": [
    {
     "data": {
      "image/png": "[encoded data removed]",
      "text/plain": [
       "<Figure size 432x288 with 1 Axes>"
      ]
     },
     "metadata": {},
     "output_type": "display_data"
    }
   ],
   "source": [
    "sns.set(style=\"ticks\")\n",
    "sns.boxplot(x=\"Treatment\", y=\"Response\", data=df)\n",
    "plt.title=(\"Response Based\")\n",
    "plt.show()\n"
   ]
  },
  {
   "cell_type": "markdown",
   "metadata": {},
   "source": [
    "The illustrated boxplot, presents the number of mosquitos biting individuals who consumed Beer vs Water as the treatment."
   ]
  },
  {
   "cell_type": "code",
   "execution_count": 4,
   "metadata": {},
   "outputs": [
    {
     "name": "stdout",
     "output_type": "stream",
     "text": [
      "The range of numbers of mosquito bites for Beer treatment is: \"17 to 31\" \n",
      "The range of numbers of mosquito bites for Water treatment is: \"12 to 24\"\n"
     ]
    }
   ],
   "source": [
    "df_grouped=df.groupby('Treatment')\n",
    "print('The range of numbers of mosquito bites for Beer treatment is: \"{0} to {1}\" \\nThe range of numbers of mosquito bites for Water treatment is: \"{2} to {3}\"'.format(df_grouped.min().loc['Beer','Response'], df_grouped.max().loc['Beer','Response'], df_grouped.min().loc['Water','Response'], df_grouped.max().loc['Water','Response']))"
   ]
  },
  {
   "cell_type": "markdown",
   "metadata": {},
   "source": [
    "We can also look into the median value in this plot. The median value for mosquito bites under Beer treatment is in in the higher quartile of water treatment, while the median value for Water treatment corresponds to the lower quartile of the Beer treatment."
   ]
  },
  {
   "cell_type": "code",
   "execution_count": 5,
   "metadata": {},
   "outputs": [
    {
     "name": "stdout",
     "output_type": "stream",
     "text": [
      "The median of mosquito bites with Beer treatment is: 24, while for Water treatment is: 20\n",
      "\n",
      "The average of mosquito bites between Beer and Water treatment is: 4.37777777777778\n"
     ]
    }
   ],
   "source": [
    "print('The median of mosquito bites with Beer treatment is: {0}, while for Water treatment is: {1}'.format(df_grouped.median().loc['Beer','Response'], df_grouped.median().loc['Water','Response']))\n",
    "\n",
    "print('\\nThe average of mosquito bites between Beer and Water treatment is: {}'.format(df_grouped.mean().loc['Beer', 'Response']-df_grouped.mean().loc['Water', 'Response']))\n"
   ]
  },
  {
   "cell_type": "markdown",
   "metadata": {},
   "source": [
    "These all rise the question that the Beer treatment has impact on the number of mosquito bites. However, to find out whether the difference between the median and mean of the mentioned values are significant or not, needs further investigations."
   ]
  },
  {
   "cell_type": "code",
   "execution_count": 6,
   "metadata": {},
   "outputs": [
    {
     "name": "stdout",
     "output_type": "stream",
     "text": [
      "\n",
      "The mean value for mosquito bites with Beer treatment is: 23.6\n",
      "\n",
      "The mean value for mosquito bites with Water treatment is: 19.22222222222222\n",
      "\n",
      "This shows that the mean (average) of number of mosquito bites with Beer treatment is higher than water treatment by 4.37777777777778.\n"
     ]
    }
   ],
   "source": [
    "print('\\nThe mean value for mosquito bites with Beer treatment is: {}'.format(df_grouped.mean().loc['Beer', 'Response']))\n",
    "print ('\\nThe mean value for mosquito bites with Water treatment is: {}'.format(df_grouped.mean().loc['Water', 'Response']))\n",
    "\n",
    "experiment_mean_diff = df_grouped.mean().loc['Beer', 'Response']-df_grouped.mean().loc['Water', 'Response']\n",
    "print ('\\nThis shows that the mean (average) of number of mosquito bites with Beer treatment is higher than water treatment by {}.'.format(experiment_mean_diff))\n"
   ]
  },
  {
   "cell_type": "code",
   "execution_count": 7,
   "metadata": {},
   "outputs": [
    {
     "data": {
      "text/html": [
       "<div>\n",
       "<style scoped>\n",
       "    .dataframe tbody tr th:only-of-type {\n",
       "        vertical-align: middle;\n",
       "    }\n",
       "\n",
       "    .dataframe tbody tr th {\n",
       "        vertical-align: top;\n",
       "    }\n",
       "\n",
       "    .dataframe thead th {\n",
       "        text-align: right;\n",
       "    }\n",
       "</style>\n",
       "<table border=\"1\" class=\"dataframe\">\n",
       "  <thead>\n",
       "    <tr style=\"text-align: right;\">\n",
       "      <th></th>\n",
       "      <th>Response</th>\n",
       "    </tr>\n",
       "    <tr>\n",
       "      <th>Treatment</th>\n",
       "      <th></th>\n",
       "    </tr>\n",
       "  </thead>\n",
       "  <tbody>\n",
       "    <tr>\n",
       "      <th>Beer</th>\n",
       "      <td>23.600000</td>\n",
       "    </tr>\n",
       "    <tr>\n",
       "      <th>Water</th>\n",
       "      <td>19.222222</td>\n",
       "    </tr>\n",
       "  </tbody>\n",
       "</table>\n",
       "</div>"
      ],
      "text/plain": [
       "            Response\n",
       "Treatment           \n",
       "Beer       23.600000\n",
       "Water      19.222222"
      ]
     },
     "execution_count": 7,
     "metadata": {},
     "output_type": "execute_result"
    }
   ],
   "source": [
    "df_grouped.mean()"
   ]
  },
  {
   "cell_type": "markdown",
   "metadata": {},
   "source": [
    "The median value for mosquito bites with Beer treatment is 24 and the median value for mosquito bites with Water treatment is 20. This demonsrates that the middle number of mosquito bites is higher in Beer treatments by 4."
   ]
  },
  {
   "cell_type": "code",
   "execution_count": 8,
   "metadata": {},
   "outputs": [
    {
     "data": {
      "text/html": [
       "<div>\n",
       "<style scoped>\n",
       "    .dataframe tbody tr th:only-of-type {\n",
       "        vertical-align: middle;\n",
       "    }\n",
       "\n",
       "    .dataframe tbody tr th {\n",
       "        vertical-align: top;\n",
       "    }\n",
       "\n",
       "    .dataframe thead th {\n",
       "        text-align: right;\n",
       "    }\n",
       "</style>\n",
       "<table border=\"1\" class=\"dataframe\">\n",
       "  <thead>\n",
       "    <tr style=\"text-align: right;\">\n",
       "      <th></th>\n",
       "      <th>Response</th>\n",
       "    </tr>\n",
       "    <tr>\n",
       "      <th>Treatment</th>\n",
       "      <th></th>\n",
       "    </tr>\n",
       "  </thead>\n",
       "  <tbody>\n",
       "    <tr>\n",
       "      <th>Beer</th>\n",
       "      <td>24</td>\n",
       "    </tr>\n",
       "    <tr>\n",
       "      <th>Water</th>\n",
       "      <td>20</td>\n",
       "    </tr>\n",
       "  </tbody>\n",
       "</table>\n",
       "</div>"
      ],
      "text/plain": [
       "           Response\n",
       "Treatment          \n",
       "Beer             24\n",
       "Water            20"
      ]
     },
     "execution_count": 8,
     "metadata": {},
     "output_type": "execute_result"
    }
   ],
   "source": [
    "df_grouped.median()"
   ]
  },
  {
   "cell_type": "code",
   "execution_count": 9,
   "metadata": {},
   "outputs": [
    {
     "data": {
      "text/html": [
       "<div>\n",
       "<style scoped>\n",
       "    .dataframe tbody tr th:only-of-type {\n",
       "        vertical-align: middle;\n",
       "    }\n",
       "\n",
       "    .dataframe tbody tr th {\n",
       "        vertical-align: top;\n",
       "    }\n",
       "\n",
       "    .dataframe thead th {\n",
       "        text-align: right;\n",
       "    }\n",
       "</style>\n",
       "<table border=\"1\" class=\"dataframe\">\n",
       "  <thead>\n",
       "    <tr style=\"text-align: right;\">\n",
       "      <th></th>\n",
       "      <th>Response</th>\n",
       "    </tr>\n",
       "    <tr>\n",
       "      <th>Treatment</th>\n",
       "      <th></th>\n",
       "    </tr>\n",
       "  </thead>\n",
       "  <tbody>\n",
       "    <tr>\n",
       "      <th>Beer</th>\n",
       "      <td>4.133199</td>\n",
       "    </tr>\n",
       "    <tr>\n",
       "      <th>Water</th>\n",
       "      <td>3.671120</td>\n",
       "    </tr>\n",
       "  </tbody>\n",
       "</table>\n",
       "</div>"
      ],
      "text/plain": [
       "           Response\n",
       "Treatment          \n",
       "Beer       4.133199\n",
       "Water      3.671120"
      ]
     },
     "execution_count": 9,
     "metadata": {},
     "output_type": "execute_result"
    }
   ],
   "source": [
    "df_grouped.std()"
   ]
  },
  {
   "cell_type": "markdown",
   "metadata": {},
   "source": [
    "The higher the standard deviation, the more distance the number of mosquito bites are from the mean value. In this experiment the number of mosquito bites with beer treatment are more distanced from their mean than the number of bites with water treatment."
   ]
  },
  {
   "cell_type": "code",
   "execution_count": 10,
   "metadata": {},
   "outputs": [
    {
     "data": {
      "text/plain": [
       "(array([  7.,  11.,  46.,  56., 125., 240., 385., 534., 498., 665., 653.,\n",
       "        498., 470., 358., 209., 116.,  82.,  29.,  11.,   6.]),\n",
       " array([-4.50888889, -4.055     , -3.60111111, -3.14722222, -2.69333333,\n",
       "        -2.23944444, -1.78555556, -1.33166667, -0.87777778, -0.42388889,\n",
       "         0.03      ,  0.48388889,  0.93777778,  1.39166667,  1.84555556,\n",
       "         2.29944444,  2.75333333,  3.20722222,  3.66111111,  4.115     ,\n",
       "         4.56888889]),\n",
       " <a list of 20 Patch objects>)"
      ]
     },
     "execution_count": 10,
     "metadata": {},
     "output_type": "execute_result"
    },
    {
     "data": {
      "image/png": "[encoded data removed]",
      "text/plain": [
       "<Figure size 432x288 with 1 Axes>"
      ]
     },
     "metadata": {},
     "output_type": "display_data"
    }
   ],
   "source": [
    "import random\n",
    "df['Treatment']='Beer'\n",
    "list_index=[]\n",
    "difference=[]\n",
    "index=0\n",
    "for iteration in range(1,5000):\n",
    "    for i in range(0,18):\n",
    "        index=random.randint(0,42)\n",
    "        while index in list_index:\n",
    "            index=random.randint(0,42)\n",
    "        df.loc[index, 'Treatment']='Water'  # Shuffling Treatment\n",
    "        list_index.append(index)\n",
    "    df_grouped=df.groupby('Treatment')\n",
    "    df_grouped.mean()\n",
    "    difference.append(df_grouped.mean().loc['Beer', 'Response']-df_grouped.mean().loc['Water', 'Response'])\n",
    "    df['Treatment']='Beer'\n",
    "    list_index=[]\n",
    "minimum= min(difference)\n",
    "maximum = max(difference)\n",
    "plt.hist(difference, bins=20)"
   ]
  },
  {
   "cell_type": "code",
   "execution_count": 11,
   "metadata": {},
   "outputs": [
    {
     "data": {
      "image/png": "[encoded data removed]",
      "text/plain": [
       "<Figure size 432x288 with 1 Axes>"
      ]
     },
     "metadata": {},
     "output_type": "display_data"
    }
   ],
   "source": [
    "# Calculating of obtaining the experiment outcome assuming no association between beer consumption\n",
    "# Generating the Cumulative Distribution Function to measure the probabilities of different occurances\n",
    "counts, bins, bars = plt.hist(difference, bins=20, density=True, cumulative=True)"
   ]
  },
  {
   "cell_type": "code",
   "execution_count": 12,
   "metadata": {},
   "outputs": [
    {
     "name": "stdout",
     "output_type": "stream",
     "text": [
      "The bins edge is at:  19\n",
      "The probability of obtaining the experiemnt outcome assuming no association with beer consumption is: \n",
      " 0.0012002400480095599\n"
     ]
    }
   ],
   "source": [
    "# Calculating the Probability of obtaining the experiment outcome assuming no association between beer consumption and mosquito bites\n",
    "import numpy as np\n",
    "#Finding the edge of the bin that is greater than the experiment's difference in the mean\n",
    "a= np.where(bins < experiment_mean_diff )\n",
    "b=int(a[0][-1])\n",
    "print('The bins edge is at: ', b)\n",
    "\n",
    "print('The probability of obtaining the experiemnt outcome assuming no association with beer consumption is: \\n', (1 - counts[b - 1]))"
   ]
  },
  {
   "cell_type": "markdown",
   "metadata": {},
   "source": [
    "#### The probability of obtaining the experiemnt outcome assuming no association exists between beer consumption and the mosquito bites, is 0.00050025. \n",
    "\n",
    "#### This means the p-value is 0.00050025 which is less than 0.05 and therefore statistically significant to reject the null hypothesis. "
   ]
  }
 ],
 "metadata": {
  "kernelspec": {
   "display_name": "Python 3",
   "language": "python",
   "name": "python3"
  },
  "language_info": {
   "codemirror_mode": {
    "name": "ipython",
    "version": 3
   },
   "file_extension": ".py",
   "mimetype": "text/x-python",
   "name": "python",
   "nbconvert_exporter": "python",
   "pygments_lexer": "ipython3",
   "version": "3.7.1"
  }
 },
 "nbformat": 4,
 "nbformat_minor": 2
}
